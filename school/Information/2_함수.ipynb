{
  "nbformat": 4,
  "nbformat_minor": 0,
  "metadata": {
    "colab": {
      "provenance": [],
      "authorship_tag": "ABX9TyNzZsLm7T5bSjGYIJbEIKp9",
      "include_colab_link": true
    },
    "kernelspec": {
      "name": "python3",
      "display_name": "Python 3"
    },
    "language_info": {
      "name": "python"
    }
  },
  "cells": [
    {
      "cell_type": "markdown",
      "metadata": {
        "id": "view-in-github",
        "colab_type": "text"
      },
      "source": [
        "<a href=\"https://colab.research.google.com/github/wkdtjdwns/Python/blob/main/2_%ED%95%A8%EC%88%98.ipynb\" target=\"_parent\"><img src=\"https://colab.research.google.com/assets/colab-badge.svg\" alt=\"Open In Colab\"/></a>"
      ]
    },
    {
      "cell_type": "code",
      "execution_count": null,
      "metadata": {
        "id": "PdI8PS0Nu2Vr"
      },
      "outputs": [],
      "source": [
        "# 파이썬에서 함수는 def로 선언함 => def 이름():\n",
        "\n",
        "# 띄어쓰기 표기\n",
        "# printMyname => 카멜식 표기\n",
        "# print_my_name => 스네이크식 표기\n",
        "\n",
        "def print_my_name(): # 괄호가 없으면 변수명으로 인식함\n",
        "  # 자동으로 들여쓰기 시작\n",
        "  print('저는 장성준입니다.')\n",
        "  print('반갑습니다.')\n",
        "\n",
        "print_my_name()\n",
        "\n",
        "''' \n",
        "반복문에서도 사용 가능\n",
        "for i in range(10):\n",
        "  print_my_name()\n",
        "'''\n",
        "\n",
        "print()\n",
        "\n",
        "\n",
        "# 다른 이름을 출력하려고 함수를 새로 하나 만들기 보다는\n",
        "def print_your_name():\n",
        "  print('나는 홍길동입니다.')\n",
        "  print('반갑습니다.')\n",
        "\n",
        "print('=====함수 2개=====')\n",
        "print_my_name()\n",
        "print_your_name()\n",
        "\n",
        "\n",
        "# 매개변수를 가지고 있는 함수를 만드는 것이 훨씬 효율적임\n",
        "# 매개변수(파라미터, 인자) => 매개변수 안에 값을 넣어 줘야함\n",
        "\n",
        "\n",
        "def print_your_name(name): \n",
        "  # print('나는' + name +'입니다')\n",
        "  print(f'나는 {name}입니다.') # f'   ' 안에 변수를 바로 사용할 때 중괄호{} 로 감싸면 됨\n",
        "  print('반갑습니다.')\n",
        "\n",
        "print('=====함수 1개=====')\n",
        "print_your_name('장성준')\n",
        "print_your_name('홍길동')\n",
        "\n",
        "print()\n",
        "\n",
        "# print_your_name()은 불가능 => print_your_name('이름') 으로 매개변수를 넣어줘야함 (정보 입력)\n",
        "print_your_name('김철수')\n",
        "\n",
        "print()\n",
        "\n",
        "# name, age => 매개변수(파라미터, 인자)\n",
        "def print_name(name, age): \n",
        "  print(f'나는 {name}입니다.')\n",
        "  print(f'나는 {age}살입니다.')\n",
        "  hello() # 함수의 기능 안에 함수를 넣을 수 있다\n",
        "\n",
        "def hello():\n",
        "  print('반갑습니다.')\n",
        "\n",
        "# print_name('이름')은 불가능 => print_name('이름', 나이) 로 2개의 매개변수를 모두 입력해야함\n",
        "print_name('김철수', 17)\n",
        "\n",
        "print()\n",
        "\n",
        "# 매개변수의 이름을 지정하면 순서가 상관없게 됨\n",
        "# 또한 매개변수들의 순서도 알 수 있게 됨\n",
        "print_name(age=17, name='김철수')"
      ]
    },
    {
      "cell_type": "code",
      "source": [
        "# 더하기 기능 sum\n",
        "\n",
        "'''\n",
        "def sum(a, b):\n",
        "  result = a+b\n",
        "\n",
        "sum(1,2) \n",
        "print(result) => result는 sum 함수 안에 있는 변수이기 때문에 sum 함수 안에서만 사용 가능함.\n",
        "'''\n",
        "# 그래서 값을 돌려줘야함 (return)\n",
        "def sum(a, b):\n",
        "  result = a+b\n",
        "  return result \n",
        "\n",
        "res = sum(1,2) # 1 + 2 = 3\n",
        "print(res)\n",
        "\n",
        "# 조금 더 간단하게 만들기\n",
        "def sum(a, b):\n",
        "  return a+b # return은 결과를 리턴할 뿐, 출력문 같은걸 리턴하지는 않음\n",
        "\n",
        "# 출력문 안에 함수를 집어 넣을 수 있음\n",
        "print( sum(1,2) ) # print()의 괄호를 띄어서 보기 편하게 함"
      ],
      "metadata": {
        "id": "1VQ3f0bS3NM1"
      },
      "execution_count": null,
      "outputs": []
    },
    {
      "cell_type": "code",
      "source": [
        "# 배열에서 최대값 찾기 (내장함수 max 없이)\n",
        "list = [4,3,1,7,5,8]\n",
        "max = -1\n",
        "\n",
        "for i in list: # list의 길이 만큼 list의 값 하나 씩 i에 보관 (i = 4 -> 3 -> 1 -> 7....)\n",
        "  # 현재 i값이 최대값인가 비교\n",
        "  if max < i:\n",
        "      max = i\n",
        "\n",
        "print(max)\n",
        "\n",
        "'''\n",
        "이 작업을 몇 십번 반복한다고 가정 할 때,\n",
        "함수로 만들어 놓으면 이 작업을 계속 반복할 필요가 없음.\n",
        "\n",
        "또한 이 작업을 반복하다가 다른 값이 찾고 싶어지면 몇 십개를 모두 바꿔야하지만\n",
        "함수로 만들어 놓으면 한 번만 바꾸면 됨.\n",
        "'''\n",
        "\n",
        "def find_value(mylist): # 리스트를 매개변수로 주겠다고 선언함.\n",
        "  max = -1\n",
        "  for k in mylist:\n",
        "    if max < k:\n",
        "      max = k\n",
        "  print(max)\n",
        "\n",
        "def find_small(mylist):\n",
        "  # 배열의 최소값 출력 (배열의 값은 100을 넘지 않는다고 가정)\n",
        "  min = 100\n",
        "  for i in mylist:\n",
        "    if min > i:\n",
        "      min = i\n",
        "  print(min)\n",
        "\n",
        "\n",
        "list = [4,3,1,7,5,8]\n",
        "find_value(list)\n",
        "\n",
        "list2 = [41,4,13,9,5,13,1,46,79,48,31,6]\n",
        "find_small(list2)"
      ],
      "metadata": {
        "colab": {
          "base_uri": "https://localhost:8080/"
        },
        "id": "YIXJNYeP0Bye",
        "outputId": "08793764-8f80-42f9-8c9b-d1e3e011e3dd"
      },
      "execution_count": null,
      "outputs": [
        {
          "output_type": "stream",
          "name": "stdout",
          "text": [
            "8\n",
            "8\n",
            "1\n"
          ]
        }
      ]
    },
    {
      "cell_type": "code",
      "source": [
        "# 최대값을 구하는 함수와 최소값을 구하는 함수가 비슷하기 때문에\n",
        "# 다른 매개변수인 type을 새로 추가해서\n",
        "# type에 따른 최소, 최대값을 구하는 함수를 만들 수 있음\n",
        "\n",
        "def find_value(mylist,type):\n",
        "  # 제일 먼저 최대값을 구하는지, 최소값을 구하는지 판단함\n",
        "\n",
        "  if type == 'max': # 최대값을 구한다면 -1과, \n",
        "      val = -1\n",
        "  else:             # 최소값을 구한다면 100과 비교함\n",
        "    val = 100 \n",
        "\n",
        "  for i in mylist:\n",
        "    # 만약 최대값을 구하려하고 i가 클때 -> 값을 변경\n",
        "    # 만약 최소값을 구하려하고 i가 작을 때 -> 값을 변경\n",
        "    if (type == 'max' and val < i) or (type == 'min' and val > i):\n",
        "      val = i\n",
        "  return val\n",
        "  # 파이썬에서는 return val, type 처럼 2가지의 값을 리턴할 수 있음\n",
        "\n",
        "  # 아래에 있는 코드에 있는 겹치는 부분을 모두 지우면 위에 있는 코드로 줄일 수 있음.\n",
        "\n",
        "  '''\n",
        "  if type == 'max':\n",
        "      if val < i:\n",
        "        val = i\n",
        "  else:\n",
        "    if val > i:\n",
        "      val = i\n",
        "  return val\n",
        "  '''\n",
        "\n",
        "list = [4,3,1,7,5,8]\n",
        "# 배열의 최대값과 최소값의 합을 출력하시오.\n",
        "max = find_value(type='max', mylist=list)\n",
        "min = find_value(list, 'min')\n",
        "print(f' {max} + {min} = {max + min}')"
      ],
      "metadata": {
        "colab": {
          "base_uri": "https://localhost:8080/"
        },
        "id": "5lhHupJF_ChC",
        "outputId": "64ddca31-2172-458b-b2cb-6e1573bcb245"
      },
      "execution_count": null,
      "outputs": [
        {
          "output_type": "stream",
          "name": "stdout",
          "text": [
            " 8 + 1 = 9\n"
          ]
        }
      ]
    },
    {
      "cell_type": "code",
      "source": [
        "# 함수의 복잡한 작업 해결하기\n",
        "# fibo수열 : 앞뒤 숫자를 더하면 다음 숫자가 나오는 수 배열\n",
        "# 1, 1, 2, 3, 5, 8, 13, ...\n",
        "# f(1) || f(2) == 1\n",
        "# f(n) = f(n-1) + f(n-2)\n",
        "# 재귀함수 (본인 안에서 본인을 재호출하는 것)\n",
        "\n",
        "def fibo(n):\n",
        "  if n == 1 or n == 2:\n",
        "    return 1\n",
        "  else:\n",
        "    return fibo(n-1) + fibo(n-2)\n",
        "print( fibo(10) )"
      ],
      "metadata": {
        "colab": {
          "base_uri": "https://localhost:8080/"
        },
        "id": "zC3RtU64Ehr4",
        "outputId": "053274c9-fb59-4ee5-96c4-da2078a13548"
      },
      "execution_count": 3,
      "outputs": [
        {
          "output_type": "stream",
          "name": "stdout",
          "text": [
            "55\n"
          ]
        }
      ]
    },
    {
      "cell_type": "markdown",
      "source": [
        "정보수행\n",
        "\n",
        "1. 유니코드의 특징 2가지 이상\n",
        "\n",
        "2. R코드의 특징 2가지 이상\n",
        "\n",
        "⊙ 유니코드란\n",
        "\n",
        "1. 통합 문자체계\n",
        "\n",
        "2. 국제 표준 문자표\n",
        "\n",
        "3. 세계 모든 언어와 기호에 코드값을 부여한 것\n",
        "\n",
        "이를 통해 모든 문자를 일관되게 처리할 수 있음\n",
        "\n",
        "⊙ 유니코드의 특징\n",
        "\n",
        "1. 하나의 문자를 표현하는데 1~4byte를 사용\n",
        "\n",
        "2. 가변 길이 인코딩 방식임\n",
        "\n",
        "3. 인코딩 방식으로 UTF-8, UTF-16, EUC-KR 등이 있음\n",
        "\n",
        "4. 다양한 시스템에서 문자를 교환하고 저장할 수 있음\n",
        "\n",
        "⊙ 부연설명\n",
        "\n",
        "1. UTF-8 : 8비트 단위로 가변 인코딩 유니코드의 시작 바이트를 보고 몇 바이트를 읽을것인지 결정하기로 약속함\n",
        "2. 0xxxxxxx -> 첫번째 바이트가 0으로 시작한다면 0 이외의 7비트를 ASCII로 인식함\n",
        "3. 110xxxxx 10xxxxxx -> 두번째 바이트까지 읽어서 하나의 문자로 표현\n",
        "4. 1110xxxx 10xxxxxx 10xxxxxx -> 세 번째 ~~\n",
        "5. 11110xxx 10xxxxxx 10xxxxxx 10xxxxxx -> 네 번째 ~~\n",
        "\n",
        "6. EUC-KR\n",
        ": 한글을 표현하기 위해 2byte(16bit)로 사용\n",
        "\n",
        "⊙ QR코드란\n",
        "\n",
        "1. 컴퓨터가 만든 흑백 격자무늬 패턴 코드\n",
        "\n",
        "2. 정보를 나타내는 매트릭스 형식의 이차원 코드\n",
        "\n",
        "⊙ 일반 바코드와 QR코드의 차이\n",
        "\n",
        "▷ 일반 바코드\n",
        "\n",
        "1. 단방향 즉, 1차원 형태임\n",
        "\n",
        "2. 숫자나 문자 정보가 저장됨\n",
        "\n",
        "▷ QR코드\n",
        "\n",
        "1. 종횡으로 2차원 형태를 가짐\n",
        "\n",
        "2. 사진, 동영상, 지도, 명함 등 다양한 정보를 더 편리하게 담아낼 수 있음\n",
        "\n",
        "3. 버전1부터 버전40까지 버전마다 최대로 포함할 수 있는 정보와 크기가 다름\n",
        "\n",
        "⊙ 영역 구분\n",
        "\n",
        "1. 콰이어트 존\n",
        "\n",
        "2. 위치 검출 패턴(분리자 포함)\n",
        "\n",
        "3. 타이밍 패턴\n",
        "\n",
        "4. 정렬 패턴\n",
        "\n",
        "5. 포맷 정보\n",
        "\n",
        "6. 버전 정보\n",
        "\n",
        "⊙ 데이터 영역(에러 정정 코드 영역 포함) 등\n",
        "\n",
        "1. 숫자 : 최대 7089 자\n",
        "\n",
        "2. 영문자와 한글 : 최대 4296 자\n",
        "\n",
        "3. 한자 : 1817 자\n",
        "\n",
        "4. 8비트 바이트 : 최대 2953 바이트"
      ],
      "metadata": {
        "id": "WzaVaEWc7kVS"
      }
    },
    {
      "cell_type": "code",
      "source": [
        "# 주어진 문자열에 특정 단어가 포함되었는지 찾는 함수\n",
        "# 예 - 'hello world'에서 'e'가 포함 되었는가? -> True\n",
        "# 예 - 'hello world'에서 'k'가 포함 되었는가? -> False \n",
        "\n",
        "str = 'hello world'\n",
        "# str = [h,e,l,l,o, ,w,o,r,l,d]\n",
        "\n",
        "# str 변수에서 'h' 만 꺼내오기\n",
        "print( str[0] ) # 문자열은 배열처럼 처리가 가능하기 때문\n",
        "\n",
        "# 여러번 반복해야 함 -> 반복문 필요 (for / while)  /  반복해야할 횟수가 정해져 있음 -> for문 사용\n",
        "\n",
        "# 'hello world'의 각 글자 출력하기\n",
        "for i in range(0,11):\n",
        "  print(str[i])\n",
        "\n",
        "print('==================')\n",
        "\n",
        "# 하지만 위와 같은 코드는 str의 값이 바뀌었을 때 for문의 range() 값을 바꿔줘야 하기 때문에 str 변수의 길이만큼 반복하게 하는 것이 좋음\n",
        "for i in range(0, len(str)): # for i in str -> 오류  /  배열이 아니기 때문에 저런 식으로 사용할 수는 없음\n",
        "  print(str[i])\n",
        "\n",
        "print('==================')\n",
        "\n",
        "# 단어가 포함되었는지 판단하기\n",
        "str = 'hello world!!!!!!!'\n",
        "# 코드를 짤 때 고정된 값을 넣는 습관은 좋지 않음 (고칠 때 하나하나 찾아서 고쳐야함)\n",
        "keyword = 'e' # 그래서 찾아야하는 문자를 변수로 지정함 (이렇게한다면 여기에 있는 값 하나만 바꾸면 됨)\n",
        "\n",
        "for i in range(0, len(str)):\n",
        "  if str[i] == keyword:\n",
        "    print('찾음') \n",
        "    break # 찾아야할 문자를 찾았기 때문에 더 이상 기능을 반복할 필요가 없음"
      ],
      "metadata": {
        "id": "rMXMn4ze7oWP"
      },
      "execution_count": null,
      "outputs": []
    },
    {
      "cell_type": "code",
      "source": [
        "# 함수로 만들기 find_word()\n",
        "\n",
        "# 함수 부분\n",
        "def find_word(str, keyword): # 문자열과 찾아야하는 문자를 매개변수로 가지게함  /  ex) find_word('hello world', 'e') -> 찾음!\n",
        "  for i in range(len(str)):  # 굳이 range(0, len(str)) 로 사용할 필요가 없음\n",
        "    if str[i] == keyword:\n",
        "      return True            # 찾았다는 사실을 참 값으로 돌려주고 함수의 실행을 끝냄 (함수가 return을 만나면 그 함수는 종료됨)\n",
        "  # for문이 끝난 후\n",
        "  return False # for문이 끝난 후의 코드까지 왔다는 사실은 for문이 끝날 때까지 return을 만나지 못한 것 즉, 찾지 못했다는 것임 -> 찾지 못했다는 사실을 거짓 값을 돌려주고 실행을 끝냄\n",
        "\n",
        "# 실행 부분\n",
        "print( find_word(keyword='u', str= 'jangsungjun') ) # 이런 식으로 사용하는 편이 매개변수가 많아도 어떤 것이 어떤 변수인지 헷갈리지 않을 수 있어 좋음 (매개변수끼리의 위치는 바뀌어도 상관 X)\n",
        "# print( find_word('jangsungjun', 'u') )\n",
        "print( find_word(keyword='k', str= 'jangsungjun') )\n",
        "# print( find_word('jangsungjun', 'k'))"
      ],
      "metadata": {
        "colab": {
          "base_uri": "https://localhost:8080/"
        },
        "id": "YpYTVO_RBm4w",
        "outputId": "c96ab583-7923-4e36-a06d-b2bfc073077b"
      },
      "execution_count": 10,
      "outputs": [
        {
          "output_type": "stream",
          "name": "stdout",
          "text": [
            "True\n",
            "False\n"
          ]
        }
      ]
    }
  ]
}
